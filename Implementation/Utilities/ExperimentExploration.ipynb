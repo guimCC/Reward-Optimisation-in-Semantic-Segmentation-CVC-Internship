{
 "cells": [
  {
   "cell_type": "code",
   "execution_count": null,
   "metadata": {},
   "outputs": [],
   "source": [
    "import numpy as np\n",
    "import matplotlib.pyplot as plt\n",
    "import pandas as pd\n",
    "from scipy.interpolate import make_interp_spline, BSpline\n",
    "from typing import List"
   ]
  },
  {
   "cell_type": "code",
   "execution_count": null,
   "metadata": {},
   "outputs": [],
   "source": [
    "def smooth(scalars: List[float], weight: float) -> List[float]:  # Weight between 0 and 1\n",
    "    last = scalars[0]  # First value in the plot (first timestep)\n",
    "    smoothed = list()\n",
    "    for point in scalars:\n",
    "        smoothed_val = last * weight + (1 - weight) * point  # Calculate smoothed value\n",
    "        smoothed.append(smoothed_val)                        # Save it\n",
    "        last = smoothed_val                                  # Anchor the last smoothed value\n",
    "    return smoothed\n",
    "\n",
    "def compute_rolling_mean(data_frame_values, window_size):\n",
    "    return data_frame_values.rolling(window=window_size, center=True).mean()\n",
    "\n",
    "def compute_linear_regression(x_values, y_values):\n",
    "    coeficients = np.polyfit(x_values, y_values, 1)\n",
    "    return np.polyval(coeficients, x_values)\n",
    "\n",
    "def plot_original_values(axis, x_values, y_values, label):\n",
    "    axis.plot(x_values, y_values, color='tab:blue', label=label, alpha=1, linewidth=2, linestyle='-')\n",
    "\n",
    "def plot_regression_line(axis, x_values, y_values):\n",
    "    axis.plot(x_values, y_values, color='tab:orange', label='Regression Line', linewidth=2, linestyle='--')\n",
    "\n",
    "def plot_original_trend(axis, start_y, end_y, start_x, end_x):\n",
    "    axis.plot([start_x, end_x], [start_y, end_y], color='green', alpha=0.5, linestyle='-.', linewidth=2, label='Original trend')\n",
    "    \n",
    "def plot_smoothed_values(axis, x_values, y_values):\n",
    "    # Instantiate a second axes that shares the same x-axis\n",
    "    axis2 = axis.twinx()\n",
    "    # Plot the smoothed data on a second y-axis\n",
    "    color = 'tab:red'\n",
    "    axis2.set_ylabel('Smoothed Trend', color=color, fontsize=12)\n",
    "    axis2.plot(x_values, y_values, color=color, label='Trend', alpha=0.5, linewidth=2, linestyle='--')\n",
    "    axis2.tick_params(axis='y', labelcolor=color)\n",
    "    axis2.grid(False)\n",
    "    axis2.set_yticks([])"
   ]
  },
  {
   "cell_type": "code",
   "execution_count": null,
   "metadata": {},
   "outputs": [],
   "source": [
    "# Load the data from the CSV file\n",
    "df = pd.read_csv(\"metrics.csv\")"
   ]
  },
  {
   "cell_type": "code",
   "execution_count": null,
   "metadata": {},
   "outputs": [],
   "source": [
    "window_size = 1\n",
    "original_values = df['mIoU']\n",
    "steps = df['step']\n",
    "\n",
    "# Compute the rolling mean\n",
    "rolling_values = compute_rolling_mean(original_values, window_size)\n",
    "# Compute smoothed values\n",
    "smoothed_values = smooth(original_values, 0.5)\n",
    "# Compute the linear regression\n",
    "y_pred_reg = compute_linear_regression(steps, original_values)\n",
    "residuals = original_values - y_pred_reg\n",
    "\n",
    "\n",
    "# Plot the original data\n",
    "fig, axis = plt.subplots(figsize=(12, 6))\n",
    "axis.set_xlabel('Step', fontsize=12)\n",
    "axis.set_ylabel('mIoU', color='tab:blue', fontsize=12)\n",
    "axis.tick_params(axis='y', labelcolor='tab:blue')\n",
    "\n",
    "# Plot the original values\n",
    "plot_original_values(axis, steps, original_values, 'mIoU')\n",
    "\n",
    "# Plot the regression line\n",
    "plot_regression_line(axis, steps, y_pred_reg)\n",
    "\n",
    "\n",
    "# Plot line of the original trend\n",
    "start_y =\n",
    "end_y =\n",
    "start_x =\n",
    "end_x =\n",
    "plot_original_trend(axis, start_y, end_y, start_x, end_x)\n",
    "\n",
    "# Plot the smoothed values\n",
    "# plot_smoothed_values(axis, steps, smoothed_values)\n",
    "\n",
    "# Title and legend\n",
    "fig.tight_layout()\n",
    "plt.title('mIoU vs Steps', fontsize=14)\n",
    "fig.legend(loc=\"upper right\", bbox_to_anchor=(1,1), bbox_transform=axis.transAxes)\n",
    "\n",
    "# Saving and showing the plot\n",
    "#plt.savefig('Figures/Smoothed_mIoU_v1.png', dpi=300, bbox_inches='tight')\n",
    "plt.show()\n"
   ]
  }
 ],
 "metadata": {
  "kernelspec": {
   "display_name": "datascience",
   "language": "python",
   "name": "python3"
  },
  "language_info": {
   "codemirror_mode": {
    "name": "ipython",
    "version": 3
   },
   "file_extension": ".py",
   "mimetype": "text/x-python",
   "name": "python",
   "nbconvert_exporter": "python",
   "pygments_lexer": "ipython3",
   "version": "3.12.2"
  }
 },
 "nbformat": 4,
 "nbformat_minor": 2
}
