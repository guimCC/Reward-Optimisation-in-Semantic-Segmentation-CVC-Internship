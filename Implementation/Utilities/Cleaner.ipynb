{
 "cells": [
  {
   "cell_type": "code",
   "execution_count": 1,
   "metadata": {},
   "outputs": [],
   "source": [
    "import json"
   ]
  },
  {
   "cell_type": "code",
   "execution_count": 2,
   "metadata": {},
   "outputs": [],
   "source": [
    "def load_data(filename):\n",
    "    data = []\n",
    "    with open(filename, 'r') as f:\n",
    "        for line in f:\n",
    "            data.append(json.loads(line))\n",
    "    return data"
   ]
  },
  {
   "cell_type": "code",
   "execution_count": 3,
   "metadata": {},
   "outputs": [],
   "source": [
    "data = load_data('scalars.json')\n",
    "with open('losses.csv', 'w') as f1, open('metrics.csv', 'w') as f2:\n",
    "    f1.write(\"step,loss\\n\")\n",
    "    f2.write(\"step,mIoU,mAcc\\n\")\n",
    "    for entry in data:\n",
    "        if 'loss' in entry.keys():\n",
    "            f1.write(f\"{entry['step']},{entry['loss']}\\n\")\n",
    "        if 'mIoU' in entry.keys():\n",
    "            f2.write(f\"{entry['step']},{entry['mIoU']},{entry['mAcc']}\\n\")\n",
    "        \n"
   ]
  }
 ],
 "metadata": {
  "kernelspec": {
   "display_name": "datascience",
   "language": "python",
   "name": "python3"
  },
  "language_info": {
   "codemirror_mode": {
    "name": "ipython",
    "version": 3
   },
   "file_extension": ".py",
   "mimetype": "text/x-python",
   "name": "python",
   "nbconvert_exporter": "python",
   "pygments_lexer": "ipython3",
   "version": "3.12.2"
  }
 },
 "nbformat": 4,
 "nbformat_minor": 2
}
